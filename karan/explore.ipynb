{
 "cells": [
  {
   "cell_type": "code",
   "execution_count": null,
   "source": [
    "import sklearn\r\n",
    "from sklearn.preprocessing import StandardScaler\r\n",
    "from sklearn.preprocessing import MinMaxScaler"
   ],
   "outputs": [],
   "metadata": {}
  },
  {
   "cell_type": "code",
   "execution_count": null,
   "source": [
    "def standard_scaling(x_train, x_test):\r\n",
    "    std_scaler = StandardScaler()\r\n",
    "    x_train_transformed = std_scaler.fit_transform(x_train)\r\n",
    "    x_test_transformed = std_scaler.transform(x_test)\r\n",
    "    return x_train_transformed, x_test_transformed"
   ],
   "outputs": [],
   "metadata": {}
  },
  {
   "cell_type": "code",
   "execution_count": null,
   "source": [
    "def min_max_scaling(x_train, x_test):\r\n",
    "    min_max_scaler = MinMaxScaler()\r\n",
    "    x_train_transformed = min_max_scaler.fit_transform(x_train)\r\n",
    "    x_test_transformed = min_max_scaler.transform(x_test)\r\n",
    "    return x_train_transformed, x_test_transformed"
   ],
   "outputs": [],
   "metadata": {}
  }
 ],
 "metadata": {
  "orig_nbformat": 4,
  "language_info": {
   "name": "python",
   "version": "3.9.6"
  },
  "kernelspec": {
   "name": "python3",
   "display_name": "Python 3.9.6 64-bit ('venv': venv)"
  },
  "interpreter": {
   "hash": "a6593a027263ebbf040a1cfa1c861961a6b983c446f529ad48d52543e51ef515"
  }
 },
 "nbformat": 4,
 "nbformat_minor": 2
}
